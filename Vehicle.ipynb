{
 "cells": [
  {
   "cell_type": "code",
   "execution_count": 1,
   "metadata": {},
   "outputs": [],
   "source": [
    "import pandas as pd\n",
    "import matplotlib.pyplot as plt\n",
    "import numpy as np\n",
    "import seaborn as sns"
   ]
  },
  {
   "cell_type": "code",
   "execution_count": 2,
   "metadata": {},
   "outputs": [
    {
     "data": {
      "text/html": [
       "<div>\n",
       "<style scoped>\n",
       "    .dataframe tbody tr th:only-of-type {\n",
       "        vertical-align: middle;\n",
       "    }\n",
       "\n",
       "    .dataframe tbody tr th {\n",
       "        vertical-align: top;\n",
       "    }\n",
       "\n",
       "    .dataframe thead th {\n",
       "        text-align: right;\n",
       "    }\n",
       "</style>\n",
       "<table border=\"1\" class=\"dataframe\">\n",
       "  <thead>\n",
       "    <tr style=\"text-align: right;\">\n",
       "      <th></th>\n",
       "      <th>VEHICLE_HAL_ID</th>\n",
       "      <th>VEHICLE_MODEL_TYPE</th>\n",
       "      <th>VEHICLE_MANUFACTURER_NAME</th>\n",
       "      <th>VEHICLE_MODEL_NAME</th>\n",
       "      <th>VEHICLE_TYPE_NAME</th>\n",
       "      <th>VIN</th>\n",
       "      <th>REGISTRATION_PLATE</th>\n",
       "      <th>SERIAL_NUMBER</th>\n",
       "      <th>KW</th>\n",
       "      <th>FUEL_TYPE_NAME</th>\n",
       "      <th>OWNERSHIP_TYPE</th>\n",
       "      <th>CAPACITY_AMOUNT</th>\n",
       "      <th>ACCESS_CONTROL_COMPONENT_TYPE</th>\n",
       "      <th>COMPANY</th>\n",
       "      <th>COMPANY_GROUP</th>\n",
       "    </tr>\n",
       "  </thead>\n",
       "  <tbody>\n",
       "    <tr>\n",
       "      <th>11223</th>\n",
       "      <td>119763</td>\n",
       "      <td>Fahrrad</td>\n",
       "      <td>Biketec</td>\n",
       "      <td>StadtRAD-Look</td>\n",
       "      <td>StadtRAD</td>\n",
       "      <td>NaN</td>\n",
       "      <td>NaN</td>\n",
       "      <td>8412</td>\n",
       "      <td>NaN</td>\n",
       "      <td>NaN</td>\n",
       "      <td>Kauf</td>\n",
       "      <td>NaN</td>\n",
       "      <td>CAB 2.0</td>\n",
       "      <td>StadtRAD Hamburg</td>\n",
       "      <td>Call a Bike</td>\n",
       "    </tr>\n",
       "    <tr>\n",
       "      <th>11224</th>\n",
       "      <td>119781</td>\n",
       "      <td>Fahrrad</td>\n",
       "      <td>Biketec</td>\n",
       "      <td>StadtRAD-Look</td>\n",
       "      <td>StadtRAD</td>\n",
       "      <td>NaN</td>\n",
       "      <td>NaN</td>\n",
       "      <td>8430</td>\n",
       "      <td>NaN</td>\n",
       "      <td>NaN</td>\n",
       "      <td>Kauf</td>\n",
       "      <td>NaN</td>\n",
       "      <td>CAB 2.0</td>\n",
       "      <td>StadtRAD Hamburg</td>\n",
       "      <td>Call a Bike</td>\n",
       "    </tr>\n",
       "    <tr>\n",
       "      <th>11225</th>\n",
       "      <td>119798</td>\n",
       "      <td>Fahrrad</td>\n",
       "      <td>Biketec</td>\n",
       "      <td>StadtRAD-Look</td>\n",
       "      <td>StadtRAD</td>\n",
       "      <td>NaN</td>\n",
       "      <td>NaN</td>\n",
       "      <td>8447</td>\n",
       "      <td>NaN</td>\n",
       "      <td>NaN</td>\n",
       "      <td>Kauf</td>\n",
       "      <td>NaN</td>\n",
       "      <td>CAB 2.0</td>\n",
       "      <td>StadtRAD Hamburg</td>\n",
       "      <td>Call a Bike</td>\n",
       "    </tr>\n",
       "    <tr>\n",
       "      <th>11226</th>\n",
       "      <td>119777</td>\n",
       "      <td>Fahrrad</td>\n",
       "      <td>Biketec</td>\n",
       "      <td>StadtRAD-Look</td>\n",
       "      <td>StadtRAD</td>\n",
       "      <td>NaN</td>\n",
       "      <td>NaN</td>\n",
       "      <td>8426</td>\n",
       "      <td>NaN</td>\n",
       "      <td>NaN</td>\n",
       "      <td>Kauf</td>\n",
       "      <td>NaN</td>\n",
       "      <td>CAB 2.0</td>\n",
       "      <td>StadtRAD Hamburg</td>\n",
       "      <td>Call a Bike</td>\n",
       "    </tr>\n",
       "    <tr>\n",
       "      <th>11227</th>\n",
       "      <td>119796</td>\n",
       "      <td>Fahrrad</td>\n",
       "      <td>Biketec</td>\n",
       "      <td>StadtRAD-Look</td>\n",
       "      <td>StadtRAD</td>\n",
       "      <td>NaN</td>\n",
       "      <td>NaN</td>\n",
       "      <td>8445</td>\n",
       "      <td>NaN</td>\n",
       "      <td>NaN</td>\n",
       "      <td>Kauf</td>\n",
       "      <td>NaN</td>\n",
       "      <td>CAB 2.0</td>\n",
       "      <td>StadtRAD Hamburg</td>\n",
       "      <td>Call a Bike</td>\n",
       "    </tr>\n",
       "  </tbody>\n",
       "</table>\n",
       "</div>"
      ],
      "text/plain": [
       "       VEHICLE_HAL_ID VEHICLE_MODEL_TYPE VEHICLE_MANUFACTURER_NAME  \\\n",
       "11223          119763            Fahrrad                   Biketec   \n",
       "11224          119781            Fahrrad                   Biketec   \n",
       "11225          119798            Fahrrad                   Biketec   \n",
       "11226          119777            Fahrrad                   Biketec   \n",
       "11227          119796            Fahrrad                   Biketec   \n",
       "\n",
       "      VEHICLE_MODEL_NAME VEHICLE_TYPE_NAME  VIN  REGISTRATION_PLATE  \\\n",
       "11223      StadtRAD-Look          StadtRAD  NaN                 NaN   \n",
       "11224      StadtRAD-Look          StadtRAD  NaN                 NaN   \n",
       "11225      StadtRAD-Look          StadtRAD  NaN                 NaN   \n",
       "11226      StadtRAD-Look          StadtRAD  NaN                 NaN   \n",
       "11227      StadtRAD-Look          StadtRAD  NaN                 NaN   \n",
       "\n",
       "       SERIAL_NUMBER  KW  FUEL_TYPE_NAME OWNERSHIP_TYPE  CAPACITY_AMOUNT  \\\n",
       "11223           8412 NaN             NaN           Kauf              NaN   \n",
       "11224           8430 NaN             NaN           Kauf              NaN   \n",
       "11225           8447 NaN             NaN           Kauf              NaN   \n",
       "11226           8426 NaN             NaN           Kauf              NaN   \n",
       "11227           8445 NaN             NaN           Kauf              NaN   \n",
       "\n",
       "      ACCESS_CONTROL_COMPONENT_TYPE           COMPANY COMPANY_GROUP  \n",
       "11223                       CAB 2.0  StadtRAD Hamburg   Call a Bike  \n",
       "11224                       CAB 2.0  StadtRAD Hamburg   Call a Bike  \n",
       "11225                       CAB 2.0  StadtRAD Hamburg   Call a Bike  \n",
       "11226                       CAB 2.0  StadtRAD Hamburg   Call a Bike  \n",
       "11227                       CAB 2.0  StadtRAD Hamburg   Call a Bike  "
      ]
     },
     "execution_count": 2,
     "metadata": {},
     "output_type": "execute_result"
    }
   ],
   "source": [
    "df = pd.read_csv('OPENDATA_VEHICLE_CALL_A_BIKE.csv',sep=\";\")\n",
    "df.tail(5)"
   ]
  },
  {
   "cell_type": "code",
   "execution_count": 3,
   "metadata": {},
   "outputs": [
    {
     "data": {
      "text/html": [
       "<div>\n",
       "<style scoped>\n",
       "    .dataframe tbody tr th:only-of-type {\n",
       "        vertical-align: middle;\n",
       "    }\n",
       "\n",
       "    .dataframe tbody tr th {\n",
       "        vertical-align: top;\n",
       "    }\n",
       "\n",
       "    .dataframe thead th {\n",
       "        text-align: right;\n",
       "    }\n",
       "</style>\n",
       "<table border=\"1\" class=\"dataframe\">\n",
       "  <thead>\n",
       "    <tr style=\"text-align: right;\">\n",
       "      <th></th>\n",
       "      <th>VEHICLE_HAL_ID</th>\n",
       "      <th>VIN</th>\n",
       "      <th>REGISTRATION_PLATE</th>\n",
       "      <th>SERIAL_NUMBER</th>\n",
       "      <th>KW</th>\n",
       "      <th>FUEL_TYPE_NAME</th>\n",
       "      <th>CAPACITY_AMOUNT</th>\n",
       "    </tr>\n",
       "  </thead>\n",
       "  <tbody>\n",
       "    <tr>\n",
       "      <th>count</th>\n",
       "      <td>11228.000000</td>\n",
       "      <td>0.0</td>\n",
       "      <td>0.0</td>\n",
       "      <td>11228.000000</td>\n",
       "      <td>0.0</td>\n",
       "      <td>0.0</td>\n",
       "      <td>0.0</td>\n",
       "    </tr>\n",
       "    <tr>\n",
       "      <th>mean</th>\n",
       "      <td>124721.100196</td>\n",
       "      <td>NaN</td>\n",
       "      <td>NaN</td>\n",
       "      <td>6337.797292</td>\n",
       "      <td>NaN</td>\n",
       "      <td>NaN</td>\n",
       "      <td>NaN</td>\n",
       "    </tr>\n",
       "    <tr>\n",
       "      <th>std</th>\n",
       "      <td>21549.199358</td>\n",
       "      <td>NaN</td>\n",
       "      <td>NaN</td>\n",
       "      <td>3586.889031</td>\n",
       "      <td>NaN</td>\n",
       "      <td>NaN</td>\n",
       "      <td>NaN</td>\n",
       "    </tr>\n",
       "    <tr>\n",
       "      <th>min</th>\n",
       "      <td>106002.000000</td>\n",
       "      <td>NaN</td>\n",
       "      <td>NaN</td>\n",
       "      <td>3.000000</td>\n",
       "      <td>NaN</td>\n",
       "      <td>NaN</td>\n",
       "      <td>NaN</td>\n",
       "    </tr>\n",
       "    <tr>\n",
       "      <th>25%</th>\n",
       "      <td>109223.750000</td>\n",
       "      <td>NaN</td>\n",
       "      <td>NaN</td>\n",
       "      <td>3224.750000</td>\n",
       "      <td>NaN</td>\n",
       "      <td>NaN</td>\n",
       "      <td>NaN</td>\n",
       "    </tr>\n",
       "    <tr>\n",
       "      <th>50%</th>\n",
       "      <td>116374.500000</td>\n",
       "      <td>NaN</td>\n",
       "      <td>NaN</td>\n",
       "      <td>6398.500000</td>\n",
       "      <td>NaN</td>\n",
       "      <td>NaN</td>\n",
       "      <td>NaN</td>\n",
       "    </tr>\n",
       "    <tr>\n",
       "      <th>75%</th>\n",
       "      <td>120785.250000</td>\n",
       "      <td>NaN</td>\n",
       "      <td>NaN</td>\n",
       "      <td>9434.250000</td>\n",
       "      <td>NaN</td>\n",
       "      <td>NaN</td>\n",
       "      <td>NaN</td>\n",
       "    </tr>\n",
       "    <tr>\n",
       "      <th>max</th>\n",
       "      <td>177608.000000</td>\n",
       "      <td>NaN</td>\n",
       "      <td>NaN</td>\n",
       "      <td>17065.000000</td>\n",
       "      <td>NaN</td>\n",
       "      <td>NaN</td>\n",
       "      <td>NaN</td>\n",
       "    </tr>\n",
       "  </tbody>\n",
       "</table>\n",
       "</div>"
      ],
      "text/plain": [
       "       VEHICLE_HAL_ID  VIN  REGISTRATION_PLATE  SERIAL_NUMBER   KW  \\\n",
       "count    11228.000000  0.0                 0.0   11228.000000  0.0   \n",
       "mean    124721.100196  NaN                 NaN    6337.797292  NaN   \n",
       "std      21549.199358  NaN                 NaN    3586.889031  NaN   \n",
       "min     106002.000000  NaN                 NaN       3.000000  NaN   \n",
       "25%     109223.750000  NaN                 NaN    3224.750000  NaN   \n",
       "50%     116374.500000  NaN                 NaN    6398.500000  NaN   \n",
       "75%     120785.250000  NaN                 NaN    9434.250000  NaN   \n",
       "max     177608.000000  NaN                 NaN   17065.000000  NaN   \n",
       "\n",
       "       FUEL_TYPE_NAME  CAPACITY_AMOUNT  \n",
       "count             0.0              0.0  \n",
       "mean              NaN              NaN  \n",
       "std               NaN              NaN  \n",
       "min               NaN              NaN  \n",
       "25%               NaN              NaN  \n",
       "50%               NaN              NaN  \n",
       "75%               NaN              NaN  \n",
       "max               NaN              NaN  "
      ]
     },
     "execution_count": 3,
     "metadata": {},
     "output_type": "execute_result"
    }
   ],
   "source": [
    "df.describe()"
   ]
  },
  {
   "cell_type": "code",
   "execution_count": 4,
   "metadata": {},
   "outputs": [],
   "source": [
    "df = df.drop(['VIN','CAPACITY_AMOUNT','REGISTRATION_PLATE','SERIAL_NUMBER','KW','FUEL_TYPE_NAME'],axis=1)"
   ]
  },
  {
   "cell_type": "code",
   "execution_count": 5,
   "metadata": {},
   "outputs": [
    {
     "data": {
      "text/html": [
       "<div>\n",
       "<style scoped>\n",
       "    .dataframe tbody tr th:only-of-type {\n",
       "        vertical-align: middle;\n",
       "    }\n",
       "\n",
       "    .dataframe tbody tr th {\n",
       "        vertical-align: top;\n",
       "    }\n",
       "\n",
       "    .dataframe thead th {\n",
       "        text-align: right;\n",
       "    }\n",
       "</style>\n",
       "<table border=\"1\" class=\"dataframe\">\n",
       "  <thead>\n",
       "    <tr style=\"text-align: right;\">\n",
       "      <th></th>\n",
       "      <th>VEHICLE_HAL_ID</th>\n",
       "      <th>VEHICLE_MODEL_TYPE</th>\n",
       "      <th>VEHICLE_MANUFACTURER_NAME</th>\n",
       "      <th>VEHICLE_MODEL_NAME</th>\n",
       "      <th>VEHICLE_TYPE_NAME</th>\n",
       "      <th>OWNERSHIP_TYPE</th>\n",
       "      <th>ACCESS_CONTROL_COMPONENT_TYPE</th>\n",
       "      <th>COMPANY</th>\n",
       "      <th>COMPANY_GROUP</th>\n",
       "    </tr>\n",
       "  </thead>\n",
       "  <tbody>\n",
       "    <tr>\n",
       "      <th>0</th>\n",
       "      <td>110466</td>\n",
       "      <td>Fahrrad</td>\n",
       "      <td>Biketec</td>\n",
       "      <td>DB-Look</td>\n",
       "      <td>CallBike</td>\n",
       "      <td>Kauf</td>\n",
       "      <td>CAB GPRS 2.0</td>\n",
       "      <td>Call a Bike</td>\n",
       "      <td>Call a Bike</td>\n",
       "    </tr>\n",
       "    <tr>\n",
       "      <th>1</th>\n",
       "      <td>110471</td>\n",
       "      <td>Fahrrad</td>\n",
       "      <td>Biketec</td>\n",
       "      <td>DB-Look</td>\n",
       "      <td>CallBike</td>\n",
       "      <td>Kauf</td>\n",
       "      <td>CAB 4.0</td>\n",
       "      <td>Call a Bike</td>\n",
       "      <td>Call a Bike</td>\n",
       "    </tr>\n",
       "    <tr>\n",
       "      <th>2</th>\n",
       "      <td>110574</td>\n",
       "      <td>Fahrrad</td>\n",
       "      <td>Biketec</td>\n",
       "      <td>DB-Look</td>\n",
       "      <td>CallBike</td>\n",
       "      <td>Kauf</td>\n",
       "      <td>CAB GPRS 2.0</td>\n",
       "      <td>Call a Bike</td>\n",
       "      <td>Call a Bike</td>\n",
       "    </tr>\n",
       "    <tr>\n",
       "      <th>3</th>\n",
       "      <td>110581</td>\n",
       "      <td>Fahrrad</td>\n",
       "      <td>Biketec</td>\n",
       "      <td>StadtRAD-Look</td>\n",
       "      <td>StadtRAD</td>\n",
       "      <td>Kauf</td>\n",
       "      <td>CAB 2.0</td>\n",
       "      <td>StadtRAD Hamburg</td>\n",
       "      <td>Call a Bike</td>\n",
       "    </tr>\n",
       "    <tr>\n",
       "      <th>4</th>\n",
       "      <td>110588</td>\n",
       "      <td>Fahrrad</td>\n",
       "      <td>Biketec</td>\n",
       "      <td>DB-Look</td>\n",
       "      <td>CallBike</td>\n",
       "      <td>Kauf</td>\n",
       "      <td>CAB GPRS 2.0</td>\n",
       "      <td>Call a Bike</td>\n",
       "      <td>Call a Bike</td>\n",
       "    </tr>\n",
       "  </tbody>\n",
       "</table>\n",
       "</div>"
      ],
      "text/plain": [
       "   VEHICLE_HAL_ID VEHICLE_MODEL_TYPE VEHICLE_MANUFACTURER_NAME  \\\n",
       "0          110466            Fahrrad                   Biketec   \n",
       "1          110471            Fahrrad                   Biketec   \n",
       "2          110574            Fahrrad                   Biketec   \n",
       "3          110581            Fahrrad                   Biketec   \n",
       "4          110588            Fahrrad                   Biketec   \n",
       "\n",
       "  VEHICLE_MODEL_NAME VEHICLE_TYPE_NAME OWNERSHIP_TYPE  \\\n",
       "0            DB-Look          CallBike           Kauf   \n",
       "1            DB-Look          CallBike           Kauf   \n",
       "2            DB-Look          CallBike           Kauf   \n",
       "3      StadtRAD-Look          StadtRAD           Kauf   \n",
       "4            DB-Look          CallBike           Kauf   \n",
       "\n",
       "  ACCESS_CONTROL_COMPONENT_TYPE           COMPANY COMPANY_GROUP  \n",
       "0                  CAB GPRS 2.0       Call a Bike   Call a Bike  \n",
       "1                       CAB 4.0       Call a Bike   Call a Bike  \n",
       "2                  CAB GPRS 2.0       Call a Bike   Call a Bike  \n",
       "3                       CAB 2.0  StadtRAD Hamburg   Call a Bike  \n",
       "4                  CAB GPRS 2.0       Call a Bike   Call a Bike  "
      ]
     },
     "execution_count": 5,
     "metadata": {},
     "output_type": "execute_result"
    }
   ],
   "source": [
    "df.head()"
   ]
  },
  {
   "cell_type": "code",
   "execution_count": 6,
   "metadata": {},
   "outputs": [
    {
     "name": "stdout",
     "output_type": "stream",
     "text": [
      "<class 'pandas.core.frame.DataFrame'>\n",
      "RangeIndex: 11228 entries, 0 to 11227\n",
      "Data columns (total 9 columns):\n",
      "VEHICLE_HAL_ID                   11228 non-null int64\n",
      "VEHICLE_MODEL_TYPE               11228 non-null object\n",
      "VEHICLE_MANUFACTURER_NAME        11228 non-null object\n",
      "VEHICLE_MODEL_NAME               11228 non-null object\n",
      "VEHICLE_TYPE_NAME                11228 non-null object\n",
      "OWNERSHIP_TYPE                   11228 non-null object\n",
      "ACCESS_CONTROL_COMPONENT_TYPE    11228 non-null object\n",
      "COMPANY                          11228 non-null object\n",
      "COMPANY_GROUP                    11228 non-null object\n",
      "dtypes: int64(1), object(8)\n",
      "memory usage: 789.5+ KB\n"
     ]
    }
   ],
   "source": [
    "df.info()"
   ]
  },
  {
   "cell_type": "code",
   "execution_count": 7,
   "metadata": {},
   "outputs": [],
   "source": [
    "model = (df['VEHICLE_MODEL_NAME'].unique())"
   ]
  },
  {
   "cell_type": "code",
   "execution_count": 8,
   "metadata": {},
   "outputs": [
    {
     "name": "stdout",
     "output_type": "stream",
     "text": [
      "['DB-Look', 'StadtRAD-Look', 'Konrad-Look', 'Pedelec', 'Lidl-Look']\n",
      "[7943, 2667, 497, 118, 3]\n"
     ]
    }
   ],
   "source": [
    "model_dict={}\n",
    "model_name, model_count = [],[]\n",
    "for m in model:\n",
    "    model_dict[m] = len(df[df['VEHICLE_MODEL_NAME'] == m])\n",
    "    model_name.append(m)\n",
    "    model_count.append(model_dict[m])\n",
    "print(model_name)\n",
    "print(model_count)"
   ]
  },
  {
   "cell_type": "code",
   "execution_count": 9,
   "metadata": {},
   "outputs": [
    {
     "data": {
      "image/png": "[encoded data removed]",
      "text/plain": [
       "<matplotlib.figure.Figure at 0x7f5178794198>"
      ]
     },
     "metadata": {},
     "output_type": "display_data"
    }
   ],
   "source": [
    "colors = [\"#0AB9FB\", \"#5CD1FE\",\"#8BDAF9\", \"#ACE6FD\",\"#0098D4\"]\n",
    "plt.figure(figsize=(5,5))\n",
    "plt.title('Models', fontsize=15, fontweight='bold')\n",
    "plt.pie(model_count, labels=model_name, startangle = 90)\n",
    "plt.legend(model_name, fontsize = 'large', loc = \"best\")\n",
    "plt.tight_layout()\n",
    "plt.show()"
   ]
  },
  {
   "cell_type": "code",
   "execution_count": 10,
   "metadata": {},
   "outputs": [
    {
     "data": {
      "text/plain": [
       "array(['CallBike', 'StadtRAD', 'Konrad', 'Pedelec', 'LIDL-BIKE'], dtype=object)"
      ]
     },
     "execution_count": 10,
     "metadata": {},
     "output_type": "execute_result"
    }
   ],
   "source": [
    "vehicle = df['VEHICLE_TYPE_NAME'].unique()\n",
    "vehicle"
   ]
  },
  {
   "cell_type": "code",
   "execution_count": 11,
   "metadata": {},
   "outputs": [
    {
     "name": "stdout",
     "output_type": "stream",
     "text": [
      "['CallBike', 'StadtRAD', 'Konrad', 'Pedelec', 'LIDL-BIKE']\n",
      "[7943, 2667, 497, 118, 3]\n"
     ]
    }
   ],
   "source": [
    "vehicle_dict={}\n",
    "vehicle_name, vehicle_count = [],[]\n",
    "for v in vehicle:\n",
    "    vehicle_dict[v] = len(df[df['VEHICLE_TYPE_NAME'] == v])\n",
    "    vehicle_name.append(v)\n",
    "    vehicle_count.append(vehicle_dict[v])\n",
    "print(vehicle_name)\n",
    "print(vehicle_count)"
   ]
  },
  {
   "cell_type": "code",
   "execution_count": 12,
   "metadata": {},
   "outputs": [
    {
     "data": {
      "image/png": "[encoded data removed]",
      "text/plain": [
       "<matplotlib.figure.Figure at 0x7f517878a0f0>"
      ]
     },
     "metadata": {},
     "output_type": "display_data"
    }
   ],
   "source": [
    "colors = [\"#0AB9FB\", \"#5CD1FE\",\"#8BDAF9\", \"#ACE6FD\",\"#0098D4\"]\n",
    "plt.figure(figsize=(5,5))\n",
    "plt.title('Vehicle', fontsize=15, fontweight='bold')\n",
    "plt.pie(vehicle_count, labels=vehicle_name, startangle = 90)\n",
    "plt.legend(vehicle_name, fontsize = 'large', loc = \"best\")\n",
    "plt.tight_layout()\n",
    "plt.show()"
   ]
  },
  {
   "cell_type": "code",
   "execution_count": 13,
   "metadata": {},
   "outputs": [],
   "source": [
    "access = df['ACCESS_CONTROL_COMPONENT_TYPE'].unique()"
   ]
  },
  {
   "cell_type": "code",
   "execution_count": 14,
   "metadata": {},
   "outputs": [
    {
     "name": "stdout",
     "output_type": "stream",
     "text": [
      "['CAB GPRS 2.0', 'CAB 4.0', 'CAB 2.0', 'CAB 1.0']\n",
      "[5815, 1601, 3757, 55]\n"
     ]
    }
   ],
   "source": [
    "access_dict={}\n",
    "access_name, access_count = [],[]\n",
    "for a in access:\n",
    "    access_dict[a] = len(df[df['ACCESS_CONTROL_COMPONENT_TYPE'] == a])\n",
    "    access_name.append(a)\n",
    "    access_count.append(access_dict[a])\n",
    "print(access_name)\n",
    "print(access_count)"
   ]
  },
  {
   "cell_type": "code",
   "execution_count": 15,
   "metadata": {},
   "outputs": [
    {
     "data": {
      "image/png": "[encoded data removed]",
      "text/plain": [
       "<matplotlib.figure.Figure at 0x7f5170849d68>"
      ]
     },
     "metadata": {},
     "output_type": "display_data"
    }
   ],
   "source": [
    "colors = [\"#0AB9FB\", \"#5CD1FE\",\"#8BDAF9\", \"#ACE6FD\",\"#0098D4\"]\n",
    "plt.figure(figsize=(5,5))\n",
    "plt.title('Access Control Component', fontsize=15, fontweight='bold')\n",
    "plt.pie(access_count, labels=access_name, startangle = 90)\n",
    "plt.legend(access_name, fontsize = 'large', loc = \"best\")\n",
    "plt.tight_layout()\n",
    "plt.show()"
   ]
  },
  {
   "cell_type": "code",
   "execution_count": 16,
   "metadata": {},
   "outputs": [],
   "source": [
    "company = df['COMPANY'].unique()"
   ]
  },
  {
   "cell_type": "code",
   "execution_count": 17,
   "metadata": {},
   "outputs": [
    {
     "name": "stdout",
     "output_type": "stream",
     "text": [
      "['Call a Bike', 'StadtRAD Hamburg', 'Konrad']\n",
      "[8062, 2669, 497]\n"
     ]
    }
   ],
   "source": [
    "company_dict={}\n",
    "company_name, company_count = [],[]\n",
    "for c in company:\n",
    "    company_dict[c] = len(df[df['COMPANY'] == c])\n",
    "    company_name.append(c)\n",
    "    company_count.append(company_dict[c])\n",
    "print(company_name)\n",
    "print(company_count)"
   ]
  },
  {
   "cell_type": "code",
   "execution_count": 18,
   "metadata": {},
   "outputs": [
    {
     "data": {
      "image/png": "[encoded data removed]",
      "text/plain": [
       "<matplotlib.figure.Figure at 0x7f51707d7cf8>"
      ]
     },
     "metadata": {},
     "output_type": "display_data"
    }
   ],
   "source": [
    "colors = [\"#0AB9FB\", \"#5CD1FE\",\"#8BDAF9\", \"#ACE6FD\",\"#0098D4\"]\n",
    "plt.figure(figsize=(5,5))\n",
    "plt.title('Company', fontsize=15, fontweight='bold')\n",
    "plt.pie(company_count, labels=company_name, startangle = 90)\n",
    "plt.legend(company_name, fontsize = 'large')\n",
    "plt.tight_layout()\n",
    "plt.show()"
   ]
  },
  {
   "cell_type": "code",
   "execution_count": null,
   "metadata": {},
   "outputs": [],
   "source": []
  }
 ],
 "metadata": {
  "kernelspec": {
   "display_name": "Python 3",
   "language": "python",
   "name": "python3"
  },
  "language_info": {
   "codemirror_mode": {
    "name": "ipython",
    "version": 3
   },
   "file_extension": ".py",
   "mimetype": "text/x-python",
   "name": "python",
   "nbconvert_exporter": "python",
   "pygments_lexer": "ipython3",
   "version": "3.6.3"
  }
 },
 "nbformat": 4,
 "nbformat_minor": 2
}
