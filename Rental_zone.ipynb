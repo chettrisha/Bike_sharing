{
 "cells": [
  {
   "cell_type": "code",
   "execution_count": 1,
   "metadata": {},
   "outputs": [],
   "source": [
    "# import all the libraries\n",
    "\n",
    "import pandas as pd\n",
    "import matplotlib.pyplot as plt\n",
    "import numpy as np\n",
    "import plotly.plotly as py\n",
    "import plotly\n",
    "from plotly.graph_objs import *\n",
    "from utils import *"
   ]
  },
  {
   "cell_type": "code",
   "execution_count": 2,
   "metadata": {},
   "outputs": [],
   "source": [
    "# load dataframe\n",
    "rent = pd.read_csv('OPENDATA_RENTAL_ZONE_CALL_A_BIKE.csv')"
   ]
  },
  {
   "cell_type": "code",
   "execution_count": 3,
   "metadata": {},
   "outputs": [
    {
     "data": {
      "text/html": [
       "<div>\n",
       "<style scoped>\n",
       "    .dataframe tbody tr th:only-of-type {\n",
       "        vertical-align: middle;\n",
       "    }\n",
       "\n",
       "    .dataframe tbody tr th {\n",
       "        vertical-align: top;\n",
       "    }\n",
       "\n",
       "    .dataframe thead th {\n",
       "        text-align: right;\n",
       "    }\n",
       "</style>\n",
       "<table border=\"1\" class=\"dataframe\">\n",
       "  <thead>\n",
       "    <tr style=\"text-align: right;\">\n",
       "      <th></th>\n",
       "      <th>RENTAL_ZONE_HAL_ID</th>\n",
       "      <th>RENTAL_ZONE_HAL_SRC</th>\n",
       "      <th>NAME</th>\n",
       "      <th>CODE</th>\n",
       "      <th>TYPE</th>\n",
       "      <th>CITY</th>\n",
       "      <th>COUNTRY</th>\n",
       "      <th>LATITUDE</th>\n",
       "      <th>LONGITUDE</th>\n",
       "      <th>POI_AIRPORT_X</th>\n",
       "      <th>POI_LONG_DISTANCE_TRAINS_X</th>\n",
       "      <th>POI_SUBURBAN_TRAINS_X</th>\n",
       "      <th>POI_UNDERGROUND_X</th>\n",
       "      <th>ACTIVE_X</th>\n",
       "      <th>COMPANY</th>\n",
       "      <th>COMPANY_GROUP</th>\n",
       "    </tr>\n",
       "  </thead>\n",
       "  <tbody>\n",
       "    <tr>\n",
       "      <th>0</th>\n",
       "      <td>354</td>\n",
       "      <td>Standort</td>\n",
       "      <td>M├╝nchner Freiheit</td>\n",
       "      <td>88001308</td>\n",
       "      <td>normal</td>\n",
       "      <td>M├╝nchen</td>\n",
       "      <td>Deutschland</td>\n",
       "      <td>11,586111110000000</td>\n",
       "      <td>48,161944440000000</td>\n",
       "      <td>Nein</td>\n",
       "      <td>Nein</td>\n",
       "      <td>Nein</td>\n",
       "      <td>Nein</td>\n",
       "      <td>Ja</td>\n",
       "      <td>Call a Bike</td>\n",
       "      <td>Call a Bike</td>\n",
       "    </tr>\n",
       "    <tr>\n",
       "      <th>1</th>\n",
       "      <td>388</td>\n",
       "      <td>Standort</td>\n",
       "      <td>Ostbahnhof</td>\n",
       "      <td>88001662</td>\n",
       "      <td>normal</td>\n",
       "      <td>M├╝nchen</td>\n",
       "      <td>Deutschland</td>\n",
       "      <td>11,604444440000000</td>\n",
       "      <td>48,128611110000000</td>\n",
       "      <td>Nein</td>\n",
       "      <td>Nein</td>\n",
       "      <td>Nein</td>\n",
       "      <td>Nein</td>\n",
       "      <td>Ja</td>\n",
       "      <td>Call a Bike</td>\n",
       "      <td>Call a Bike</td>\n",
       "    </tr>\n",
       "    <tr>\n",
       "      <th>2</th>\n",
       "      <td>499</td>\n",
       "      <td>Standort</td>\n",
       "      <td>DB_MobilityCenter</td>\n",
       "      <td>88002897</td>\n",
       "      <td>normal</td>\n",
       "      <td>M├╝nchen</td>\n",
       "      <td>Deutschland</td>\n",
       "      <td>NaN</td>\n",
       "      <td>NaN</td>\n",
       "      <td>Nein</td>\n",
       "      <td>Nein</td>\n",
       "      <td>Nein</td>\n",
       "      <td>Nein</td>\n",
       "      <td>Ja</td>\n",
       "      <td>Call a Bike</td>\n",
       "      <td>Call a Bike</td>\n",
       "    </tr>\n",
       "    <tr>\n",
       "      <th>3</th>\n",
       "      <td>1532</td>\n",
       "      <td>Standort</td>\n",
       "      <td>Stiglmaierplatz</td>\n",
       "      <td>88006552</td>\n",
       "      <td>normal</td>\n",
       "      <td>M├╝nchen</td>\n",
       "      <td>Deutschland</td>\n",
       "      <td>11,558888890000000</td>\n",
       "      <td>48,146944440000000</td>\n",
       "      <td>Nein</td>\n",
       "      <td>Nein</td>\n",
       "      <td>Nein</td>\n",
       "      <td>Nein</td>\n",
       "      <td>Ja</td>\n",
       "      <td>Call a Bike</td>\n",
       "      <td>Call a Bike</td>\n",
       "    </tr>\n",
       "    <tr>\n",
       "      <th>4</th>\n",
       "      <td>1559</td>\n",
       "      <td>Standort</td>\n",
       "      <td>DB_MobilityCenter</td>\n",
       "      <td>88006834</td>\n",
       "      <td>normal</td>\n",
       "      <td>M├╝nchen</td>\n",
       "      <td>Deutschland</td>\n",
       "      <td>11,575277780000000</td>\n",
       "      <td>48,160277780000000</td>\n",
       "      <td>Nein</td>\n",
       "      <td>Nein</td>\n",
       "      <td>Nein</td>\n",
       "      <td>Nein</td>\n",
       "      <td>Ja</td>\n",
       "      <td>Call a Bike</td>\n",
       "      <td>Call a Bike</td>\n",
       "    </tr>\n",
       "  </tbody>\n",
       "</table>\n",
       "</div>"
      ],
      "text/plain": [
       "   RENTAL_ZONE_HAL_ID RENTAL_ZONE_HAL_SRC                NAME      CODE  \\\n",
       "0                 354            Standort  M├╝nchner Freiheit  88001308   \n",
       "1                 388            Standort          Ostbahnhof  88001662   \n",
       "2                 499            Standort   DB_MobilityCenter  88002897   \n",
       "3                1532            Standort     Stiglmaierplatz  88006552   \n",
       "4                1559            Standort   DB_MobilityCenter  88006834   \n",
       "\n",
       "     TYPE      CITY      COUNTRY            LATITUDE           LONGITUDE  \\\n",
       "0  normal  M├╝nchen  Deutschland  11,586111110000000  48,161944440000000   \n",
       "1  normal  M├╝nchen  Deutschland  11,604444440000000  48,128611110000000   \n",
       "2  normal  M├╝nchen  Deutschland                 NaN                 NaN   \n",
       "3  normal  M├╝nchen  Deutschland  11,558888890000000  48,146944440000000   \n",
       "4  normal  M├╝nchen  Deutschland  11,575277780000000  48,160277780000000   \n",
       "\n",
       "  POI_AIRPORT_X POI_LONG_DISTANCE_TRAINS_X POI_SUBURBAN_TRAINS_X  \\\n",
       "0          Nein                       Nein                  Nein   \n",
       "1          Nein                       Nein                  Nein   \n",
       "2          Nein                       Nein                  Nein   \n",
       "3          Nein                       Nein                  Nein   \n",
       "4          Nein                       Nein                  Nein   \n",
       "\n",
       "  POI_UNDERGROUND_X ACTIVE_X      COMPANY COMPANY_GROUP  \n",
       "0              Nein       Ja  Call a Bike   Call a Bike  \n",
       "1              Nein       Ja  Call a Bike   Call a Bike  \n",
       "2              Nein       Ja  Call a Bike   Call a Bike  \n",
       "3              Nein       Ja  Call a Bike   Call a Bike  \n",
       "4              Nein       Ja  Call a Bike   Call a Bike  "
      ]
     },
     "execution_count": 3,
     "metadata": {},
     "output_type": "execute_result"
    }
   ],
   "source": [
    "# show first 5 rows from dataset\n",
    "rent.head()"
   ]
  },
  {
   "cell_type": "code",
   "execution_count": 4,
   "metadata": {},
   "outputs": [],
   "source": [
    "# drop columns that has null value.\n",
    "\n",
    "rent = rent.drop(['POI_AIRPORT_X','POI_LONG_DISTANCE_TRAINS_X','POI_SUBURBAN_TRAINS_X','POI_UNDERGROUND_X'],axis=1)"
   ]
  },
  {
   "cell_type": "code",
   "execution_count": 5,
   "metadata": {},
   "outputs": [
    {
     "data": {
      "text/html": [
       "<div>\n",
       "<style scoped>\n",
       "    .dataframe tbody tr th:only-of-type {\n",
       "        vertical-align: middle;\n",
       "    }\n",
       "\n",
       "    .dataframe tbody tr th {\n",
       "        vertical-align: top;\n",
       "    }\n",
       "\n",
       "    .dataframe thead th {\n",
       "        text-align: right;\n",
       "    }\n",
       "</style>\n",
       "<table border=\"1\" class=\"dataframe\">\n",
       "  <thead>\n",
       "    <tr style=\"text-align: right;\">\n",
       "      <th></th>\n",
       "      <th>RENTAL_ZONE_HAL_ID</th>\n",
       "      <th>RENTAL_ZONE_HAL_SRC</th>\n",
       "      <th>NAME</th>\n",
       "      <th>CODE</th>\n",
       "      <th>TYPE</th>\n",
       "      <th>CITY</th>\n",
       "      <th>COUNTRY</th>\n",
       "      <th>LATITUDE</th>\n",
       "      <th>LONGITUDE</th>\n",
       "      <th>ACTIVE_X</th>\n",
       "      <th>COMPANY</th>\n",
       "      <th>COMPANY_GROUP</th>\n",
       "    </tr>\n",
       "  </thead>\n",
       "  <tbody>\n",
       "    <tr>\n",
       "      <th>0</th>\n",
       "      <td>354</td>\n",
       "      <td>Standort</td>\n",
       "      <td>M├╝nchner Freiheit</td>\n",
       "      <td>88001308</td>\n",
       "      <td>normal</td>\n",
       "      <td>M├╝nchen</td>\n",
       "      <td>Deutschland</td>\n",
       "      <td>11,586111110000000</td>\n",
       "      <td>48,161944440000000</td>\n",
       "      <td>Ja</td>\n",
       "      <td>Call a Bike</td>\n",
       "      <td>Call a Bike</td>\n",
       "    </tr>\n",
       "    <tr>\n",
       "      <th>1</th>\n",
       "      <td>388</td>\n",
       "      <td>Standort</td>\n",
       "      <td>Ostbahnhof</td>\n",
       "      <td>88001662</td>\n",
       "      <td>normal</td>\n",
       "      <td>M├╝nchen</td>\n",
       "      <td>Deutschland</td>\n",
       "      <td>11,604444440000000</td>\n",
       "      <td>48,128611110000000</td>\n",
       "      <td>Ja</td>\n",
       "      <td>Call a Bike</td>\n",
       "      <td>Call a Bike</td>\n",
       "    </tr>\n",
       "    <tr>\n",
       "      <th>2</th>\n",
       "      <td>499</td>\n",
       "      <td>Standort</td>\n",
       "      <td>DB_MobilityCenter</td>\n",
       "      <td>88002897</td>\n",
       "      <td>normal</td>\n",
       "      <td>M├╝nchen</td>\n",
       "      <td>Deutschland</td>\n",
       "      <td>NaN</td>\n",
       "      <td>NaN</td>\n",
       "      <td>Ja</td>\n",
       "      <td>Call a Bike</td>\n",
       "      <td>Call a Bike</td>\n",
       "    </tr>\n",
       "    <tr>\n",
       "      <th>3</th>\n",
       "      <td>1532</td>\n",
       "      <td>Standort</td>\n",
       "      <td>Stiglmaierplatz</td>\n",
       "      <td>88006552</td>\n",
       "      <td>normal</td>\n",
       "      <td>M├╝nchen</td>\n",
       "      <td>Deutschland</td>\n",
       "      <td>11,558888890000000</td>\n",
       "      <td>48,146944440000000</td>\n",
       "      <td>Ja</td>\n",
       "      <td>Call a Bike</td>\n",
       "      <td>Call a Bike</td>\n",
       "    </tr>\n",
       "    <tr>\n",
       "      <th>4</th>\n",
       "      <td>1559</td>\n",
       "      <td>Standort</td>\n",
       "      <td>DB_MobilityCenter</td>\n",
       "      <td>88006834</td>\n",
       "      <td>normal</td>\n",
       "      <td>M├╝nchen</td>\n",
       "      <td>Deutschland</td>\n",
       "      <td>11,575277780000000</td>\n",
       "      <td>48,160277780000000</td>\n",
       "      <td>Ja</td>\n",
       "      <td>Call a Bike</td>\n",
       "      <td>Call a Bike</td>\n",
       "    </tr>\n",
       "  </tbody>\n",
       "</table>\n",
       "</div>"
      ],
      "text/plain": [
       "   RENTAL_ZONE_HAL_ID RENTAL_ZONE_HAL_SRC                NAME      CODE  \\\n",
       "0                 354            Standort  M├╝nchner Freiheit  88001308   \n",
       "1                 388            Standort          Ostbahnhof  88001662   \n",
       "2                 499            Standort   DB_MobilityCenter  88002897   \n",
       "3                1532            Standort     Stiglmaierplatz  88006552   \n",
       "4                1559            Standort   DB_MobilityCenter  88006834   \n",
       "\n",
       "     TYPE      CITY      COUNTRY            LATITUDE           LONGITUDE  \\\n",
       "0  normal  M├╝nchen  Deutschland  11,586111110000000  48,161944440000000   \n",
       "1  normal  M├╝nchen  Deutschland  11,604444440000000  48,128611110000000   \n",
       "2  normal  M├╝nchen  Deutschland                 NaN                 NaN   \n",
       "3  normal  M├╝nchen  Deutschland  11,558888890000000  48,146944440000000   \n",
       "4  normal  M├╝nchen  Deutschland  11,575277780000000  48,160277780000000   \n",
       "\n",
       "  ACTIVE_X      COMPANY COMPANY_GROUP  \n",
       "0       Ja  Call a Bike   Call a Bike  \n",
       "1       Ja  Call a Bike   Call a Bike  \n",
       "2       Ja  Call a Bike   Call a Bike  \n",
       "3       Ja  Call a Bike   Call a Bike  \n",
       "4       Ja  Call a Bike   Call a Bike  "
      ]
     },
     "execution_count": 5,
     "metadata": {},
     "output_type": "execute_result"
    }
   ],
   "source": [
    "rent.head()"
   ]
  },
  {
   "cell_type": "code",
   "execution_count": 6,
   "metadata": {},
   "outputs": [
    {
     "name": "stdout",
     "output_type": "stream",
     "text": [
      "<class 'pandas.core.frame.DataFrame'>\n",
      "RangeIndex: 1062 entries, 0 to 1061\n",
      "Data columns (total 12 columns):\n",
      "RENTAL_ZONE_HAL_ID     1062 non-null int64\n",
      "RENTAL_ZONE_HAL_SRC    1062 non-null object\n",
      "NAME                   1062 non-null object\n",
      "CODE                   1047 non-null object\n",
      "TYPE                   1062 non-null object\n",
      "CITY                   1062 non-null object\n",
      "COUNTRY                1062 non-null object\n",
      "LATITUDE               1032 non-null object\n",
      "LONGITUDE              1032 non-null object\n",
      "ACTIVE_X               1062 non-null object\n",
      "COMPANY                1062 non-null object\n",
      "COMPANY_GROUP          1061 non-null object\n",
      "dtypes: int64(1), object(11)\n",
      "memory usage: 99.6+ KB\n"
     ]
    }
   ],
   "source": [
    "rent.info()"
   ]
  },
  {
   "cell_type": "code",
   "execution_count": 7,
   "metadata": {},
   "outputs": [
    {
     "name": "stdout",
     "output_type": "stream",
     "text": [
      "<class 'pandas.core.frame.DataFrame'>\n",
      "Int64Index: 1016 entries, 0 to 1061\n",
      "Data columns (total 12 columns):\n",
      "RENTAL_ZONE_HAL_ID     1016 non-null int64\n",
      "RENTAL_ZONE_HAL_SRC    1016 non-null object\n",
      "NAME                   1016 non-null object\n",
      "CODE                   1016 non-null object\n",
      "TYPE                   1016 non-null object\n",
      "CITY                   1016 non-null object\n",
      "COUNTRY                1016 non-null object\n",
      "LATITUDE               1016 non-null object\n",
      "LONGITUDE              1016 non-null object\n",
      "ACTIVE_X               1016 non-null object\n",
      "COMPANY                1016 non-null object\n",
      "COMPANY_GROUP          1016 non-null object\n",
      "dtypes: int64(1), object(11)\n",
      "memory usage: 103.2+ KB\n"
     ]
    }
   ],
   "source": [
    "# drop columns that has nan value in any row\n",
    "\n",
    "rent = rent.dropna(how='any')\n",
    "rent.info()"
   ]
  },
  {
   "cell_type": "code",
   "execution_count": 8,
   "metadata": {},
   "outputs": [],
   "source": [
    "# for i in range(len(lat)):\n",
    "#     lat[i] = '.'.join(lat[i].split(',')).rstrip('0')"
   ]
  },
  {
   "cell_type": "code",
   "execution_count": 9,
   "metadata": {},
   "outputs": [
    {
     "name": "stdout",
     "output_type": "stream",
     "text": [
      "['Deutschland']\n"
     ]
    }
   ],
   "source": [
    "country = rent['COUNTRY'].unique()\n",
    "print(country)"
   ]
  },
  {
   "cell_type": "code",
   "execution_count": 10,
   "metadata": {},
   "outputs": [],
   "source": [
    "D = rent[rent['COUNTRY']=='Deutschland']\n",
    "S = rent[rent['COUNTRY']=='Schweiz']"
   ]
  },
  {
   "cell_type": "code",
   "execution_count": 11,
   "metadata": {},
   "outputs": [],
   "source": [
    "city_D = D['CITY'].unique()\n",
    "city_S = S['CITY'].unique()"
   ]
  },
  {
   "cell_type": "code",
   "execution_count": 12,
   "metadata": {},
   "outputs": [
    {
     "name": "stdout",
     "output_type": "stream",
     "text": [
      "{'M├╝nchen': 74, 'Frankfurt am Main': 318, 'Baden-Baden': 7, 'Troisdorf': 3, 'R├╝sselsheim': 8, 'L├╝beck': 1, 'Freiburg': 1, 'Erlangen': 1, 'Kaiserslautern': 1, 'Hamburg': 206, 'Bamberg': 1, 'Mannheim': 1, 'Karlsruhe': 2, 'Bremen': 1, 'Bielefeld': 1, 'Marburg': 22, 'Oberhausen': 1, 'D├╝sseldorf': 1, 'Freiham': 1, 'Weimar': 1, 'Wiesbaden': 16, 'Flugh. Frankfurt': 2, 'Saarbr├╝cken': 1, 'G├Čttingen': 1, 'G├╝tersloh': 1, 'Magdeburg': 1, 'Braunschweig': 1, 'Fulda': 1, 'Mainz': 1, 'Heidelberg': 1, 'Hannover': 1, 'Stuttgart': 44, 'Hanau': 1, 'Halle': 3, 'W├╝rzburg': 1, 'Rostock': 1, 'Aschaffenburg': 1, 'Ingolstadt': 1, 'K├Čln': 179, 'Hennef': 1, 'Oldenburg (Oldb)': 1, 'Kiel': 4, 'Darmstadt': 40, 'Kassel': 58, 'Warnem├╝nde': 1, 'Bonn': 1}\n"
     ]
    }
   ],
   "source": [
    "city_count_D = {}\n",
    "for city in city_D:\n",
    "    city_count_D[city] = len(D[D['CITY']==city])\n",
    "print(city_count_D)"
   ]
  },
  {
   "cell_type": "code",
   "execution_count": 13,
   "metadata": {},
   "outputs": [
    {
     "name": "stdout",
     "output_type": "stream",
     "text": [
      "{}\n"
     ]
    }
   ],
   "source": [
    "city_count_S = {}\n",
    "for city in city_S:\n",
    "    city_count_S[city] = len(S[S['CITY']==city])\n",
    "print(city_count_S)"
   ]
  },
  {
   "cell_type": "code",
   "execution_count": 14,
   "metadata": {},
   "outputs": [],
   "source": [
    "city_D_name = []\n",
    "city_D_num = []\n",
    "for key, val in city_count_D.items():\n",
    "    city_D_name.append(key)\n",
    "    city_D_num.append(val)"
   ]
  },
  {
   "cell_type": "code",
   "execution_count": 15,
   "metadata": {},
   "outputs": [],
   "source": [
    "city_S_name = []\n",
    "city_S_num = []\n",
    "for key, val in city_count_S.items():\n",
    "    city_S_name.append(key)\n",
    "    city_S_num.append(val)"
   ]
  },
  {
   "cell_type": "code",
   "execution_count": 16,
   "metadata": {},
   "outputs": [
    {
     "data": {
      "image/png": "[encoded data removed]",
      "text/plain": [
       "<matplotlib.figure.Figure at 0x7f746e4d1e48>"
      ]
     },
     "metadata": {},
     "output_type": "display_data"
    }
   ],
   "source": [
    "x_plot = np.arange(len(city_D_num))\n",
    "plt.figure(figsize=(16,6))\n",
    "plt.title('Deutschland', fontsize=15, fontweight='bold')\n",
    "p = plt.bar(x_plot+1, city_D_num)\n",
    "plt.xticks(x_plot+1, city_D_name, rotation = 'vertical')\n",
    "plt.show()"
   ]
  },
  {
   "cell_type": "code",
   "execution_count": 17,
   "metadata": {},
   "outputs": [],
   "source": [
    "D_na = D.dropna(axis=0,how='any')\n",
    "D_na = D_na.reset_index(drop=True)\n",
    "lat_D = D_na['LATITUDE']\n",
    "lon_D = D_na['LONGITUDE']\n",
    "new_lat = []\n",
    "new_lon = []\n",
    "for i in range(len(lat_D.index)):\n",
    "    new_lat.append('.'.join(lat_D[i].split(',')).rstrip('0'))\n",
    "    new_lon.append('.'.join(lon_D[i].split(',')).rstrip('0'))"
   ]
  },
  {
   "cell_type": "code",
   "execution_count": 18,
   "metadata": {},
   "outputs": [
    {
     "name": "stdout",
     "output_type": "stream",
     "text": [
      "High five! You successfully sent some data to your account on plotly. View your plot in your browser at https://plot.ly/~chinmaydasbat/0 or inside your plot.ly account where it is named 'Bike'\n"
     ]
    },
    {
     "data": {
      "text/html": [
       "<iframe id=\"igraph\" scrolling=\"no\" style=\"border:none;\" seamless=\"seamless\" src=\"https://plot.ly/~chinmaydasbat/0.embed\" height=\"525px\" width=\"100%\"></iframe>"
      ],
      "text/plain": [
       "<plotly.tools.PlotlyDisplay object>"
      ]
     },
     "execution_count": 18,
     "metadata": {},
     "output_type": "execute_result"
    }
   ],
   "source": [
    "data = Data([\n",
    "    Scattermapbox(\n",
    "        lat=new_lon,\n",
    "        lon=new_lat,\n",
    "        mode='markers',\n",
    "        marker=Marker(\n",
    "            color='rgb(255, 0, 0)',\n",
    "            opacity=0.8,\n",
    "            size=10\n",
    "        )\n",
    "        \n",
    "    )\n",
    "])\n",
    "\n",
    "layout = Layout(\n",
    "    autosize=True,\n",
    "    hovermode='closest',\n",
    "    mapbox=dict(\n",
    "        accesstoken=passkey,\n",
    "        bearing=0,\n",
    "        center=dict(\n",
    "            lat=25,\n",
    "            lon=11.5\n",
    "        ),\n",
    "        pitch=0,\n",
    "        zoom=2\n",
    "    ),\n",
    ")\n",
    "\n",
    "fig = dict(data=data, layout=layout)\n",
    "py.iplot(fig, filename='Bike')"
   ]
  },
  {
   "cell_type": "code",
   "execution_count": null,
   "metadata": {},
   "outputs": [],
   "source": []
  }
 ],
 "metadata": {
  "kernelspec": {
   "display_name": "Python [default]",
   "language": "python",
   "name": "python3"
  },
  "language_info": {
   "codemirror_mode": {
    "name": "ipython",
    "version": 3
   },
   "file_extension": ".py",
   "mimetype": "text/x-python",
   "name": "python",
   "nbconvert_exporter": "python",
   "pygments_lexer": "ipython3",
   "version": "3.5.4"
  }
 },
 "nbformat": 4,
 "nbformat_minor": 2
}
