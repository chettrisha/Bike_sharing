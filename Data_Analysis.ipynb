{
 "cells": [
  {
   "cell_type": "code",
   "execution_count": 1,
   "metadata": {
    "collapsed": true
   },
   "outputs": [],
   "source": [
    "import pandas as pd\n",
    "import matplotlib.pyplot as plt\n",
    "import numpy as np\n",
    "import plotly.plotly as py\n",
    "import plotly\n",
    "from plotly.graph_objs import *\n",
    "from utils import *"
   ]
  },
  {
   "cell_type": "code",
   "execution_count": 2,
   "metadata": {
    "collapsed": true
   },
   "outputs": [],
   "source": [
    "rent = pd.read_csv('OPENDATA_RENTAL_ZONE_CALL_A_BIKE.csv')"
   ]
  },
  {
   "cell_type": "code",
   "execution_count": 3,
   "metadata": {},
   "outputs": [
    {
     "data": {
      "text/html": [
       "<div>\n",
       "<style scoped>\n",
       "    .dataframe tbody tr th:only-of-type {\n",
       "        vertical-align: middle;\n",
       "    }\n",
       "\n",
       "    .dataframe tbody tr th {\n",
       "        vertical-align: top;\n",
       "    }\n",
       "\n",
       "    .dataframe thead th {\n",
       "        text-align: right;\n",
       "    }\n",
       "</style>\n",
       "<table border=\"1\" class=\"dataframe\">\n",
       "  <thead>\n",
       "    <tr style=\"text-align: right;\">\n",
       "      <th></th>\n",
       "      <th>RENTAL_ZONE_HAL_ID</th>\n",
       "      <th>RENTAL_ZONE_HAL_SRC</th>\n",
       "      <th>NAME</th>\n",
       "      <th>CODE</th>\n",
       "      <th>TYPE</th>\n",
       "      <th>CITY</th>\n",
       "      <th>COUNTRY</th>\n",
       "      <th>LATITUDE</th>\n",
       "      <th>LONGITUDE</th>\n",
       "      <th>POI_AIRPORT_X</th>\n",
       "      <th>POI_LONG_DISTANCE_TRAINS_X</th>\n",
       "      <th>POI_SUBURBAN_TRAINS_X</th>\n",
       "      <th>POI_UNDERGROUND_X</th>\n",
       "      <th>ACTIVE_X</th>\n",
       "      <th>COMPANY</th>\n",
       "      <th>COMPANY_GROUP</th>\n",
       "    </tr>\n",
       "  </thead>\n",
       "  <tbody>\n",
       "    <tr>\n",
       "      <th>0</th>\n",
       "      <td>354</td>\n",
       "      <td>Standort</td>\n",
       "      <td>M├╝nchner Freiheit</td>\n",
       "      <td>88001308</td>\n",
       "      <td>normal</td>\n",
       "      <td>M├╝nchen</td>\n",
       "      <td>Deutschland</td>\n",
       "      <td>11,586111110000000</td>\n",
       "      <td>48,161944440000000</td>\n",
       "      <td>Nein</td>\n",
       "      <td>Nein</td>\n",
       "      <td>Nein</td>\n",
       "      <td>Nein</td>\n",
       "      <td>Ja</td>\n",
       "      <td>Call a Bike</td>\n",
       "      <td>Call a Bike</td>\n",
       "    </tr>\n",
       "    <tr>\n",
       "      <th>1</th>\n",
       "      <td>388</td>\n",
       "      <td>Standort</td>\n",
       "      <td>Ostbahnhof</td>\n",
       "      <td>88001662</td>\n",
       "      <td>normal</td>\n",
       "      <td>M├╝nchen</td>\n",
       "      <td>Deutschland</td>\n",
       "      <td>11,604444440000000</td>\n",
       "      <td>48,128611110000000</td>\n",
       "      <td>Nein</td>\n",
       "      <td>Nein</td>\n",
       "      <td>Nein</td>\n",
       "      <td>Nein</td>\n",
       "      <td>Ja</td>\n",
       "      <td>Call a Bike</td>\n",
       "      <td>Call a Bike</td>\n",
       "    </tr>\n",
       "    <tr>\n",
       "      <th>2</th>\n",
       "      <td>499</td>\n",
       "      <td>Standort</td>\n",
       "      <td>DB_MobilityCenter</td>\n",
       "      <td>88002897</td>\n",
       "      <td>normal</td>\n",
       "      <td>M├╝nchen</td>\n",
       "      <td>Deutschland</td>\n",
       "      <td>NaN</td>\n",
       "      <td>NaN</td>\n",
       "      <td>Nein</td>\n",
       "      <td>Nein</td>\n",
       "      <td>Nein</td>\n",
       "      <td>Nein</td>\n",
       "      <td>Ja</td>\n",
       "      <td>Call a Bike</td>\n",
       "      <td>Call a Bike</td>\n",
       "    </tr>\n",
       "    <tr>\n",
       "      <th>3</th>\n",
       "      <td>1532</td>\n",
       "      <td>Standort</td>\n",
       "      <td>Stiglmaierplatz</td>\n",
       "      <td>88006552</td>\n",
       "      <td>normal</td>\n",
       "      <td>M├╝nchen</td>\n",
       "      <td>Deutschland</td>\n",
       "      <td>11,558888890000000</td>\n",
       "      <td>48,146944440000000</td>\n",
       "      <td>Nein</td>\n",
       "      <td>Nein</td>\n",
       "      <td>Nein</td>\n",
       "      <td>Nein</td>\n",
       "      <td>Ja</td>\n",
       "      <td>Call a Bike</td>\n",
       "      <td>Call a Bike</td>\n",
       "    </tr>\n",
       "    <tr>\n",
       "      <th>4</th>\n",
       "      <td>1559</td>\n",
       "      <td>Standort</td>\n",
       "      <td>DB_MobilityCenter</td>\n",
       "      <td>88006834</td>\n",
       "      <td>normal</td>\n",
       "      <td>M├╝nchen</td>\n",
       "      <td>Deutschland</td>\n",
       "      <td>11,575277780000000</td>\n",
       "      <td>48,160277780000000</td>\n",
       "      <td>Nein</td>\n",
       "      <td>Nein</td>\n",
       "      <td>Nein</td>\n",
       "      <td>Nein</td>\n",
       "      <td>Ja</td>\n",
       "      <td>Call a Bike</td>\n",
       "      <td>Call a Bike</td>\n",
       "    </tr>\n",
       "  </tbody>\n",
       "</table>\n",
       "</div>"
      ],
      "text/plain": [
       "   RENTAL_ZONE_HAL_ID RENTAL_ZONE_HAL_SRC                NAME      CODE  \\\n",
       "0                 354            Standort  M├╝nchner Freiheit  88001308   \n",
       "1                 388            Standort          Ostbahnhof  88001662   \n",
       "2                 499            Standort   DB_MobilityCenter  88002897   \n",
       "3                1532            Standort     Stiglmaierplatz  88006552   \n",
       "4                1559            Standort   DB_MobilityCenter  88006834   \n",
       "\n",
       "     TYPE      CITY      COUNTRY            LATITUDE           LONGITUDE  \\\n",
       "0  normal  M├╝nchen  Deutschland  11,586111110000000  48,161944440000000   \n",
       "1  normal  M├╝nchen  Deutschland  11,604444440000000  48,128611110000000   \n",
       "2  normal  M├╝nchen  Deutschland                 NaN                 NaN   \n",
       "3  normal  M├╝nchen  Deutschland  11,558888890000000  48,146944440000000   \n",
       "4  normal  M├╝nchen  Deutschland  11,575277780000000  48,160277780000000   \n",
       "\n",
       "  POI_AIRPORT_X POI_LONG_DISTANCE_TRAINS_X POI_SUBURBAN_TRAINS_X  \\\n",
       "0          Nein                       Nein                  Nein   \n",
       "1          Nein                       Nein                  Nein   \n",
       "2          Nein                       Nein                  Nein   \n",
       "3          Nein                       Nein                  Nein   \n",
       "4          Nein                       Nein                  Nein   \n",
       "\n",
       "  POI_UNDERGROUND_X ACTIVE_X      COMPANY COMPANY_GROUP  \n",
       "0              Nein       Ja  Call a Bike   Call a Bike  \n",
       "1              Nein       Ja  Call a Bike   Call a Bike  \n",
       "2              Nein       Ja  Call a Bike   Call a Bike  \n",
       "3              Nein       Ja  Call a Bike   Call a Bike  \n",
       "4              Nein       Ja  Call a Bike   Call a Bike  "
      ]
     },
     "execution_count": 3,
     "metadata": {},
     "output_type": "execute_result"
    }
   ],
   "source": [
    "rent.head()"
   ]
  },
  {
   "cell_type": "code",
   "execution_count": 4,
   "metadata": {
    "collapsed": true
   },
   "outputs": [],
   "source": [
    "# for i in range(len(lat)):\n",
    "#     lat[i] = '.'.join(lat[i].split(',')).rstrip('0')"
   ]
  },
  {
   "cell_type": "code",
   "execution_count": 5,
   "metadata": {},
   "outputs": [
    {
     "name": "stdout",
     "output_type": "stream",
     "text": [
      "['Deutschland' 'Schweiz' '10,114378000000000']\n"
     ]
    }
   ],
   "source": [
    "country = rent['COUNTRY'].unique()\n",
    "print(country)"
   ]
  },
  {
   "cell_type": "code",
   "execution_count": 6,
   "metadata": {
    "collapsed": true
   },
   "outputs": [],
   "source": [
    "D = rent[rent['COUNTRY']=='Deutschland']\n",
    "S = rent[rent['COUNTRY']=='Schweiz']"
   ]
  },
  {
   "cell_type": "code",
   "execution_count": 7,
   "metadata": {
    "collapsed": true
   },
   "outputs": [],
   "source": [
    "city_D = D['CITY'].unique()\n",
    "city_S = S['CITY'].unique()"
   ]
  },
  {
   "cell_type": "code",
   "execution_count": 8,
   "metadata": {},
   "outputs": [
    {
     "name": "stdout",
     "output_type": "stream",
     "text": [
      "{'L├╝beck': 1, 'Hennef': 1, 'K├Čln': 184, 'Hamburg': 207, 'Fulda': 1, 'Frankfurt am Main': 323, 'Bremen': 1, 'Troisdorf': 3, 'Magdeburg': 1, 'Hannover': 1, 'Karlsruhe': 2, 'G├╝tersloh': 1, 'D├╝sseldorf': 1, 'Halle': 3, 'Aschaffenburg': 1, 'Bamberg': 1, 'Oberhausen': 1, 'Freiburg': 1, 'Heidelberg': 1, 'R├╝sselsheim': 8, 'Wiesbaden': 16, 'W├╝rzburg': 1, 'Marburg': 22, 'Ingolstadt': 1, 'M├╝nchen': 88, 'Mainz': 1, 'Bonn': 1, 'Mannheim': 1, 'Kiel': 4, 'Hanau': 1, 'Oldenburg (Oldb)': 1, 'Rostock': 1, 'Darmstadt': 41, 'Freiham': 1, 'Kassel': 58, 'Warnem├╝nde': 1, 'Saarbr├╝cken': 1, 'Kaiserslautern': 1, 'Baden-Baden': 7, 'Flugh. Frankfurt': 2, 'Braunschweig': 1, 'Weimar': 1, 'Erlangen': 1, 'Stuttgart': 44, 'G├Čttingen': 1, 'Bielefeld': 1}\n"
     ]
    }
   ],
   "source": [
    "city_count_D = {}\n",
    "for city in city_D:\n",
    "    city_count_D[city] = len(D[D['CITY']==city])\n",
    "print(city_count_D)"
   ]
  },
  {
   "cell_type": "code",
   "execution_count": 9,
   "metadata": {},
   "outputs": [
    {
     "name": "stdout",
     "output_type": "stream",
     "text": [
      "{'Bellinzona': 1, 'Chur': 1, 'Interlaken': 1, 'Lugano': 1, 'Andermatt': 1, 'Biel': 1, 'Grindelwald': 1, 'Sion': 1, 'Brigg': 1, 'Winterthur': 1, 'St. Gallen': 1, 'Davos': 1, 'Lausanne': 1, 'Genf': 1, 'Thun': 1, 'Zermatt': 1, 'Z├╝rich': 1, 'G├Čschenen': 1, 'Spiez': 1}\n"
     ]
    }
   ],
   "source": [
    "city_count_S = {}\n",
    "for city in city_S:\n",
    "    city_count_S[city] = len(S[S['CITY']==city])\n",
    "print(city_count_S)"
   ]
  },
  {
   "cell_type": "code",
   "execution_count": 10,
   "metadata": {
    "collapsed": true
   },
   "outputs": [],
   "source": [
    "city_D_name = []\n",
    "city_D_num = []\n",
    "for key, val in city_count_D.items():\n",
    "    city_D_name.append(key)\n",
    "    city_D_num.append(val)"
   ]
  },
  {
   "cell_type": "code",
   "execution_count": 11,
   "metadata": {
    "collapsed": true
   },
   "outputs": [],
   "source": [
    "city_S_name = []\n",
    "city_S_num = []\n",
    "for key, val in city_count_S.items():\n",
    "    city_S_name.append(key)\n",
    "    city_S_num.append(val)"
   ]
  },
  {
   "cell_type": "code",
   "execution_count": 12,
   "metadata": {},
   "outputs": [
    {
     "data": {
      "image/png": "[encoded data removed]",
      "text/plain": [
       "<matplotlib.figure.Figure at 0x7f49c815abe0>"
      ]
     },
     "metadata": {},
     "output_type": "display_data"
    }
   ],
   "source": [
    "x_plot = np.arange(len(city_D_num))\n",
    "plt.figure(figsize=(16,6))\n",
    "plt.title('Deutschland', fontsize=15, fontweight='bold')\n",
    "p = plt.bar(x_plot+1, city_D_num)\n",
    "plt.xticks(x_plot+1, city_D_name, rotation = 'vertical')\n",
    "plt.show()"
   ]
  },
  {
   "cell_type": "code",
   "execution_count": 13,
   "metadata": {},
   "outputs": [
    {
     "data": {
      "image/png": "[encoded data removed]",
      "text/plain": [
       "<matplotlib.figure.Figure at 0x7f49c812e9e8>"
      ]
     },
     "metadata": {},
     "output_type": "display_data"
    }
   ],
   "source": [
    "x_plot = np.arange(len(city_S_num))\n",
    "plt.figure(figsize=(16,6))\n",
    "plt.title('Schweiz', fontsize=15, fontweight='bold')\n",
    "p = plt.bar(x_plot+1, city_S_num)\n",
    "plt.xticks(x_plot+1, city_S_name, rotation = 'vertical')\n",
    "plt.show()"
   ]
  },
  {
   "cell_type": "code",
   "execution_count": 14,
   "metadata": {
    "collapsed": true
   },
   "outputs": [],
   "source": [
    "D_na = D.dropna(axis=0,how='any')\n",
    "D_na = D_na.reset_index(drop=True)\n",
    "lat_D = D_na['LATITUDE']\n",
    "lon_D = D_na['LONGITUDE']\n",
    "new_lat = []\n",
    "new_lon = []\n",
    "for i in range(len(lat_D.index)):\n",
    "    new_lat.append('.'.join(lat_D[i].split(',')).rstrip('0'))\n",
    "    new_lon.append('.'.join(lon_D[i].split(',')).rstrip('0'))"
   ]
  },
  {
   "cell_type": "code",
   "execution_count": null,
   "metadata": {},
   "outputs": [],
   "source": []
  },
  {
   "cell_type": "code",
   "execution_count": 15,
   "metadata": {},
   "outputs": [
    {
     "name": "stdout",
     "output_type": "stream",
     "text": [
      "High five! You successfully sent some data to your account on plotly. View your plot in your browser at https://plot.ly/~chinmaydasbat/0 or inside your plot.ly account where it is named 'Bike'\n"
     ]
    },
    {
     "data": {
      "text/html": [
       "<iframe id=\"igraph\" scrolling=\"no\" style=\"border:none;\" seamless=\"seamless\" src=\"https://plot.ly/~chinmaydasbat/0.embed\" height=\"525px\" width=\"100%\"></iframe>"
      ],
      "text/plain": [
       "<plotly.tools.PlotlyDisplay object>"
      ]
     },
     "execution_count": 15,
     "metadata": {},
     "output_type": "execute_result"
    }
   ],
   "source": [
    "data = Data([\n",
    "    Scattermapbox(\n",
    "        lat=new_lon,\n",
    "        lon=new_lat,\n",
    "        mode='markers',\n",
    "        marker=Marker(\n",
    "            color='rgb(255, 0, 0)',\n",
    "            opacity=0.8,\n",
    "            size=10\n",
    "        )\n",
    "        \n",
    "    )\n",
    "])\n",
    "\n",
    "layout = Layout(\n",
    "    autosize=True,\n",
    "    hovermode='closest',\n",
    "    mapbox=dict(\n",
    "        accesstoken=passkey,\n",
    "        bearing=0,\n",
    "        center=dict(\n",
    "            lat=25,\n",
    "            lon=11.5\n",
    "        ),\n",
    "        pitch=0,\n",
    "        zoom=2\n",
    "    ),\n",
    ")\n",
    "\n",
    "fig = dict(data=data, layout=layout)\n",
    "py.iplot(fig, filename='Bike')"
   ]
  },
  {
   "cell_type": "code",
   "execution_count": null,
   "metadata": {
    "collapsed": true
   },
   "outputs": [],
   "source": []
  },
  {
   "cell_type": "code",
   "execution_count": null,
   "metadata": {
    "collapsed": true
   },
   "outputs": [],
   "source": []
  }
 ],
 "metadata": {
  "kernelspec": {
   "display_name": "Python [conda env:Python-3]",
   "language": "python",
   "name": "conda-env-Python-3-py"
  },
  "language_info": {
   "codemirror_mode": {
    "name": "ipython",
    "version": 3
   },
   "file_extension": ".py",
   "mimetype": "text/x-python",
   "name": "python",
   "nbconvert_exporter": "python",
   "pygments_lexer": "ipython3",
   "version": "3.5.4"
  }
 },
 "nbformat": 4,
 "nbformat_minor": 2
}
